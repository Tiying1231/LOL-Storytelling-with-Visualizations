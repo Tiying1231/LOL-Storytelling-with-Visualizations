{
 "cells": [
  {
   "cell_type": "markdown",
   "metadata": {},
   "source": [
    "# Module 8 Exercise - Data Storytelling\n",
    "\n",
    "In this exercise, you will **create a narrative visualization with a data set of your choosing**. You can choose any data set you can find on the Internet, or a data set related to your current line of work. \n",
    "\n",
    "**You will create visualizations to give a message, make a point, or convince your audience by using all the techniques we have seen throughout the course.**\n",
    "\n",
    "Here is a list of your tasks:\n",
    "\n",
    "1. Find a data set and upload it to your exercises folder in module 8. \n",
    "\n",
    "2. Write your R code **in this exercise notebook** to create your visualizations, and save them under `exercises` folder.\n",
    "\n",
    "3. Create a **narrative visualization document** using **any** software you want (Word, PowerPoint, Photoshop, etc.) by pasting your visualizations and creating all necessary elements (captions, text annotations, layout, etc.) \n",
    "\n",
    "4. Save your end product as a **pdf file** and upload it to your exercises folder (**name it L8_Exercise.pdf**)\n",
    "\n",
    "Make sure that you start with a clear message in mind, and filter and format your data accordingly, and create the visualizations that will **support that message**. \n",
    "\n",
    "You need to have **at least one major visualization, and a number of supporting smaller graphs (2, 3, or more)**. Make sure to have a **clean layout**, and **enough text annotations and captions** to make your message clear. \n",
    "\n",
    "You can choose any type of visualization that you believe will be most **effective** for the type of data and the message you have chosen. \n",
    "\n",
    "You will be graded by the quality of your visualizations and storytelling; **make sure to use everything you have learned in this course.** \n",
    "\n",
    "\n",
    "Following is to show how to plot to a file to save a graph:"
   ]
  },
  {
   "cell_type": "code",
   "execution_count": 32,
   "metadata": {},
   "outputs": [
    {
     "data": {
      "text/html": [
       "<strong>png:</strong> 2"
      ],
      "text/latex": [
       "\\textbf{png:} 2"
      ],
      "text/markdown": [
       "**png:** 2"
      ],
      "text/plain": [
       "png \n",
       "  2 "
      ]
     },
     "metadata": {},
     "output_type": "display_data"
    }
   ],
   "source": [
    "# this is how you save a plot to a file\n",
    "library(ggplot2)\n",
    "\n",
    "# comment this out to see the plot in the notebook \n",
    "png(filename=\"myplot.png\")\n",
    "\n",
    "# your plot here..\n",
    "qplot(carat, price, data = diamonds)\n",
    "\n",
    "# comment this out to see the plot in the notebook\n",
    "dev.off()"
   ]
  },
  {
   "cell_type": "markdown",
   "metadata": {},
   "source": [
    "Make sure you have all axis labels set in R notebook before you save your plot. You can adjust width and height when saving your plots.  Here is a reference to png() function:\n",
    "https://stat.ethz.ch/R-manual/R-devel/library/grDevices/html/png.html"
   ]
  },
  {
   "cell_type": "markdown",
   "metadata": {},
   "source": [
    "**Activity:**"
   ]
  },
  {
   "cell_type": "code",
   "execution_count": 33,
   "metadata": {},
   "outputs": [
    {
     "name": "stderr",
     "output_type": "stream",
     "text": [
      "Warning message in install.packages(\"highcharter\"):\n",
      "“installation of package ‘highcharter’ had non-zero exit status”Updating HTML index of packages in '.Library'\n",
      "Making 'packages.html' ... done\n",
      "Warning message:\n",
      "“dependency ‘pbkrtest’ is not available”also installing the dependencies ‘nloptr’, ‘lme4’, ‘car’\n",
      "\n",
      "Warning message in install.packages(\"VIM\"):\n",
      "“installation of package ‘nloptr’ had non-zero exit status”Warning message in install.packages(\"VIM\"):\n",
      "“installation of package ‘lme4’ had non-zero exit status”Warning message in install.packages(\"VIM\"):\n",
      "“installation of package ‘car’ had non-zero exit status”Warning message in install.packages(\"VIM\"):\n",
      "“installation of package ‘VIM’ had non-zero exit status”Updating HTML index of packages in '.Library'\n",
      "Making 'packages.html' ... done\n"
     ]
    }
   ],
   "source": [
    "# Read your data here; \n",
    "\n",
    "# Clean it up, reformat it, filter it, sort it, group it, etc.\n",
    "\n",
    "# Create your visualizations and save them as png files, then prepare your final pdf document elsewhere\n",
    "# <- ALL YOUR CODE HERE ->\n",
    "\n",
    "install.packages(\"highcharter\")\n",
    "install.packages(\"VIM\")\n",
    "\n",
    "library(ggplot2)\n",
    "library(dplyr)\n",
    "library(caret)\n",
    "library(RColorBrewer)\n",
    "library(grid)\n",
    "\n",
    "options(scipen = 200)\n",
    "\n",
    "data <- read.csv(\"../high_diamond_ranked_10min.csv\")\n"
   ]
  },
  {
   "cell_type": "code",
   "execution_count": 34,
   "metadata": {},
   "outputs": [],
   "source": [
    "## Split data \n",
    "# The data of the blue team and the red team are recorded in the data. We need to split the data of the blue team and the red team, and also need to distinguish the winner from the loser. So we will get four sets of data: **the winning blue team**, **the winning red team**, **the losing blue team** and **the losing red team**.But now we need to split the winners and losers.Since we do n’t need the difference data, we ’ll remove it first.In order to ensure that it is more beautiful when visualizing later, I have converted the data slightly to the unit in advance here.\n",
    "Wblue <- data[data$blueWins == 1,]\n",
    "Wred <- data[data$blueWins == 0,]\n",
    "Lblue <- data[data$blueWins == 0,]\n",
    "Lred <- data[data$blueWins == 1,]\n",
    "Wblue <- Wblue[,3:21]\n",
    "Wblue <- Wblue[,c(-3,-7,-8,-9,-14,-15,-16,-17)]\n",
    "Wred <- Wred[,22:40]\n",
    "Wred <- Wred[,c(-3,-7,-8,-9,-14,-15,-16,-17)]\n",
    "Lblue <- Lblue[,3:21]\n",
    "Lblue <- Lblue[,c(-3,-7,-8,-9,-14,-15,-16,-17)]\n",
    "Lred <- Lred[,22:40]\n",
    "Lred <- Lred[,c(-3,-7,-8,-9,-14,-15,-16,-17)]\n",
    "Wblue$blueTotalExperience <- Wblue$blueTotalExperience/1000\n",
    "Wred$redTotalExperience <- Wred$redTotalExperience/1000\n",
    "Lblue$blueTotalExperience <- Lblue$blueTotalExperience/1000\n",
    "Lred$redTotalExperience <- Lred$redTotalExperience/1000\n",
    "Wblue$blueGoldPerMin <- Wblue$blueGoldPerMin/1000\n",
    "Wred$redGoldPerMin <- Wred$redGoldPerMin/1000\n",
    "Lblue$blueGoldPerMin <- Lblue$blueGoldPerMin/1000\n",
    "Lred$redGoldPerMin <- Lred$redGoldPerMin/1000\n",
    "Wblue$blueTotalGold <- Wblue$blueTotalGold/1000\n",
    "Wred$redTotalGold <- Wred$redTotalGold/1000\n",
    "Lblue$blueTotalGold <- Lblue$blueTotalGold/1000\n",
    "Lred$redTotalGold <- Lred$redTotalGold/1000"
   ]
  },
  {
   "cell_type": "code",
   "execution_count": 16,
   "metadata": {},
   "outputs": [
    {
     "name": "stdout",
     "output_type": "stream",
     "text": [
      "'data.frame':\t4930 obs. of  11 variables:\n",
      " $ blueWardsPlaced    : int  18 18 13 18 15 14 21 14 33 18 ...\n",
      " $ blueWardsDestroyed : int  0 3 1 1 3 1 4 3 3 1 ...\n",
      " $ blueKills          : int  5 7 4 7 4 10 5 11 6 8 ...\n",
      " $ blueDeaths         : int  3 6 5 1 4 2 4 6 9 6 ...\n",
      " $ blueAssists        : int  6 7 5 11 4 8 11 15 10 9 ...\n",
      " $ blueTowersDestroyed: int  0 0 0 0 0 0 0 0 0 0 ...\n",
      " $ blueTotalGold      : num  15.9 16.9 15.1 17.9 15.7 ...\n",
      " $ blueAvgLevel       : num  7 6.8 6.8 7.4 6.8 7.6 6.8 7.2 6.8 7 ...\n",
      " $ blueTotalExperience: num  18.2 17 16.8 19.1 17.9 ...\n",
      " $ blueCSPerMin       : num  22.5 22.5 22 23.8 22.4 26.3 21.3 21.4 20.8 20.9 ...\n",
      " $ blueGoldPerMin     : num  1.59 1.69 1.51 1.79 1.57 ...\n",
      "'data.frame':\t4949 obs. of  11 variables:\n",
      " $ redWardsPlaced    : int  15 12 15 15 17 15 15 15 17 20 ...\n",
      " $ redWardsDestroyed : int  6 1 3 2 2 0 2 2 1 3 ...\n",
      " $ redKills          : int  6 5 11 5 6 13 7 4 11 9 ...\n",
      " $ redDeaths         : int  9 5 7 4 6 5 7 4 11 4 ...\n",
      " $ redAssists        : int  8 2 14 10 7 11 5 5 9 11 ...\n",
      " $ redTowersDestroyed: int  0 1 0 0 0 0 0 0 0 0 ...\n",
      " $ redTotalGold      : num  16.6 17.6 17.3 16.5 17.4 ...\n",
      " $ redAvgLevel       : num  6.8 6.8 6.8 7 7 6.6 7.2 7.2 7 7.2 ...\n",
      " $ redTotalExperience: num  17 17.4 17.3 18 18.3 ...\n",
      " $ redCSPerMin       : num  19.7 24 20.3 23.5 22.5 15.7 24 21.6 18.8 22.9 ...\n",
      " $ redGoldPerMin     : num  1.66 1.76 1.73 1.65 1.74 ...\n",
      "'data.frame':\t4949 obs. of  11 variables:\n",
      " $ blueWardsPlaced    : int  28 12 15 43 75 16 16 20 33 14 ...\n",
      " $ blueWardsDestroyed : int  2 1 0 1 4 2 3 3 2 3 ...\n",
      " $ blueKills          : int  9 5 7 4 6 5 7 4 11 4 ...\n",
      " $ blueDeaths         : int  6 5 11 5 6 13 7 4 11 9 ...\n",
      " $ blueAssists        : int  11 5 4 5 6 3 8 6 7 1 ...\n",
      " $ blueTowersDestroyed: int  0 0 0 0 0 0 0 0 0 0 ...\n",
      " $ blueTotalGold      : num  17.2 14.7 16.1 15.2 16.4 ...\n",
      " $ blueAvgLevel       : num  6.6 6.6 6.4 7 7 6.4 7.2 6.6 7 6.6 ...\n",
      " $ blueTotalExperience: num  17 16.3 16.2 18 18.5 ...\n",
      " $ blueCSPerMin       : num  19.5 17.4 18.6 20.1 21 20.9 18.9 23.1 15.7 21 ...\n",
      " $ blueGoldPerMin     : num  1.72 1.47 1.61 1.52 1.64 ...\n",
      "'data.frame':\t4930 obs. of  11 variables:\n",
      " $ redWardsPlaced    : int  36 57 16 12 102 13 19 12 18 10 ...\n",
      " $ redWardsDestroyed : int  5 1 2 1 1 2 3 2 3 3 ...\n",
      " $ redKills          : int  3 6 5 1 4 2 4 6 9 6 ...\n",
      " $ redDeaths         : int  5 7 4 7 4 10 5 11 6 8 ...\n",
      " $ redAssists        : int  2 9 4 1 3 2 3 4 13 3 ...\n",
      " $ redTowersDestroyed: int  0 0 0 0 0 0 0 0 0 0 ...\n",
      " $ redTotalGold      : num  15.2 14.5 16.6 14.6 16.2 ...\n",
      " $ redAvgLevel       : num  7 6.4 6.8 6.8 7 6.8 6.6 7 6.6 6.8 ...\n",
      " $ redTotalExperience: num  18.1 15.4 18.4 17.4 18.1 ...\n",
      " $ redCSPerMin       : num  22.1 16.4 24.7 24 24.2 21 22.8 22.5 19.7 23.3 ...\n",
      " $ redGoldPerMin     : num  1.52 1.45 1.66 1.46 1.62 ...\n"
     ]
    }
   ],
   "source": [
    "str(Wblue)\n",
    "str(Wred)\n",
    "str(Lblue)\n",
    "str(Lred)"
   ]
  },
  {
   "cell_type": "code",
   "execution_count": 35,
   "metadata": {},
   "outputs": [
    {
     "name": "stderr",
     "output_type": "stream",
     "text": [
      "Updating HTML index of packages in '.Library'\n",
      "Making 'packages.html' ... done\n",
      "Warning message in install.packages(\"Cairo\"):\n",
      "“installation of package ‘Cairo’ had non-zero exit status”Updating HTML index of packages in '.Library'\n",
      "Making 'packages.html' ... done\n"
     ]
    },
    {
     "data": {
      "text/html": [
       "<table>\n",
       "<caption>A data.frame: 22 × 5</caption>\n",
       "<thead>\n",
       "\t<tr><th scope=col>id</th><th scope=col>team</th><th scope=col>A</th><th scope=col>B</th><th scope=col>Label</th></tr>\n",
       "\t<tr><th scope=col>&lt;int&gt;</th><th scope=col>&lt;fct&gt;</th><th scope=col>&lt;dbl&gt;</th><th scope=col>&lt;dbl&gt;</th><th scope=col>&lt;fct&gt;</th></tr>\n",
       "</thead>\n",
       "<tbody>\n",
       "\t<tr><td> 1</td><td>Blue</td><td>22.29</td><td>22.29</td><td>WardsPlaced   </td></tr>\n",
       "\t<tr><td> 2</td><td>Blue</td><td> 2.92</td><td> 2.73</td><td>WardsDestroyed</td></tr>\n",
       "\t<tr><td> 3</td><td>Blue</td><td> 7.20</td><td> 5.17</td><td>Kills         </td></tr>\n",
       "\t<tr><td> 4</td><td>Blue</td><td> 5.14</td><td> 7.13</td><td>Deaths        </td></tr>\n",
       "\t<tr><td> 5</td><td>Blue</td><td> 7.77</td><td> 5.52</td><td>Assists       </td></tr>\n",
       "\t<tr><td> 6</td><td>Blue</td><td> 0.08</td><td> 0.02</td><td>TowerDestroyed</td></tr>\n",
       "\t<tr><td> 7</td><td>Blue</td><td>17.15</td><td>15.86</td><td>Gold (K)      </td></tr>\n",
       "\t<tr><td> 8</td><td>Blue</td><td> 7.03</td><td> 6.81</td><td>AvgLevel      </td></tr>\n",
       "\t<tr><td> 9</td><td>Blue</td><td>18.40</td><td>17.45</td><td>Experience (K)</td></tr>\n",
       "\t<tr><td>10</td><td>Blue</td><td>22.16</td><td>21.18</td><td>CSPerMin      </td></tr>\n",
       "\t<tr><td>11</td><td>Blue</td><td> 1.71</td><td> 1.59</td><td>GoldPerMin (K)</td></tr>\n",
       "\t<tr><td> 1</td><td>Red </td><td>22.80</td><td>21.93</td><td>WardsPlaced   </td></tr>\n",
       "\t<tr><td> 2</td><td>Red </td><td> 2.84</td><td> 2.60</td><td>WardsDestroyed</td></tr>\n",
       "\t<tr><td> 3</td><td>Red </td><td> 7.13</td><td> 5.14</td><td>Kills         </td></tr>\n",
       "\t<tr><td> 4</td><td>Red </td><td> 5.17</td><td> 7.20</td><td>Deaths        </td></tr>\n",
       "\t<tr><td> 5</td><td>Red </td><td> 7.76</td><td> 5.56</td><td>Assists       </td></tr>\n",
       "\t<tr><td> 6</td><td>Red </td><td> 0.07</td><td> 0.02</td><td>TowerDestroyed</td></tr>\n",
       "\t<tr><td> 7</td><td>Red </td><td>17.10</td><td>15.87</td><td>Gold (K)      </td></tr>\n",
       "\t<tr><td> 8</td><td>Red </td><td> 7.03</td><td> 6.82</td><td>AvgLevel      </td></tr>\n",
       "\t<tr><td> 9</td><td>Red </td><td>18.43</td><td>17.50</td><td>Experience (K)</td></tr>\n",
       "\t<tr><td>10</td><td>Red </td><td>22.20</td><td>21.27</td><td>CSPerMin      </td></tr>\n",
       "\t<tr><td>11</td><td>Red </td><td> 1.71</td><td> 1.59</td><td>GoldPerMin (K)</td></tr>\n",
       "</tbody>\n",
       "</table>\n"
      ],
      "text/latex": [
       "A data.frame: 22 × 5\n",
       "\\begin{tabular}{r|lllll}\n",
       " id & team & A & B & Label\\\\\n",
       " <int> & <fct> & <dbl> & <dbl> & <fct>\\\\\n",
       "\\hline\n",
       "\t  1 & Blue & 22.29 & 22.29 & WardsPlaced   \\\\\n",
       "\t  2 & Blue &  2.92 &  2.73 & WardsDestroyed\\\\\n",
       "\t  3 & Blue &  7.20 &  5.17 & Kills         \\\\\n",
       "\t  4 & Blue &  5.14 &  7.13 & Deaths        \\\\\n",
       "\t  5 & Blue &  7.77 &  5.52 & Assists       \\\\\n",
       "\t  6 & Blue &  0.08 &  0.02 & TowerDestroyed\\\\\n",
       "\t  7 & Blue & 17.15 & 15.86 & Gold (K)      \\\\\n",
       "\t  8 & Blue &  7.03 &  6.81 & AvgLevel      \\\\\n",
       "\t  9 & Blue & 18.40 & 17.45 & Experience (K)\\\\\n",
       "\t 10 & Blue & 22.16 & 21.18 & CSPerMin      \\\\\n",
       "\t 11 & Blue &  1.71 &  1.59 & GoldPerMin (K)\\\\\n",
       "\t  1 & Red  & 22.80 & 21.93 & WardsPlaced   \\\\\n",
       "\t  2 & Red  &  2.84 &  2.60 & WardsDestroyed\\\\\n",
       "\t  3 & Red  &  7.13 &  5.14 & Kills         \\\\\n",
       "\t  4 & Red  &  5.17 &  7.20 & Deaths        \\\\\n",
       "\t  5 & Red  &  7.76 &  5.56 & Assists       \\\\\n",
       "\t  6 & Red  &  0.07 &  0.02 & TowerDestroyed\\\\\n",
       "\t  7 & Red  & 17.10 & 15.87 & Gold (K)      \\\\\n",
       "\t  8 & Red  &  7.03 &  6.82 & AvgLevel      \\\\\n",
       "\t  9 & Red  & 18.43 & 17.50 & Experience (K)\\\\\n",
       "\t 10 & Red  & 22.20 & 21.27 & CSPerMin      \\\\\n",
       "\t 11 & Red  &  1.71 &  1.59 & GoldPerMin (K)\\\\\n",
       "\\end{tabular}\n"
      ],
      "text/markdown": [
       "\n",
       "A data.frame: 22 × 5\n",
       "\n",
       "| id &lt;int&gt; | team &lt;fct&gt; | A &lt;dbl&gt; | B &lt;dbl&gt; | Label &lt;fct&gt; |\n",
       "|---|---|---|---|---|\n",
       "|  1 | Blue | 22.29 | 22.29 | WardsPlaced    |\n",
       "|  2 | Blue |  2.92 |  2.73 | WardsDestroyed |\n",
       "|  3 | Blue |  7.20 |  5.17 | Kills          |\n",
       "|  4 | Blue |  5.14 |  7.13 | Deaths         |\n",
       "|  5 | Blue |  7.77 |  5.52 | Assists        |\n",
       "|  6 | Blue |  0.08 |  0.02 | TowerDestroyed |\n",
       "|  7 | Blue | 17.15 | 15.86 | Gold (K)       |\n",
       "|  8 | Blue |  7.03 |  6.81 | AvgLevel       |\n",
       "|  9 | Blue | 18.40 | 17.45 | Experience (K) |\n",
       "| 10 | Blue | 22.16 | 21.18 | CSPerMin       |\n",
       "| 11 | Blue |  1.71 |  1.59 | GoldPerMin (K) |\n",
       "|  1 | Red  | 22.80 | 21.93 | WardsPlaced    |\n",
       "|  2 | Red  |  2.84 |  2.60 | WardsDestroyed |\n",
       "|  3 | Red  |  7.13 |  5.14 | Kills          |\n",
       "|  4 | Red  |  5.17 |  7.20 | Deaths         |\n",
       "|  5 | Red  |  7.76 |  5.56 | Assists        |\n",
       "|  6 | Red  |  0.07 |  0.02 | TowerDestroyed |\n",
       "|  7 | Red  | 17.10 | 15.87 | Gold (K)       |\n",
       "|  8 | Red  |  7.03 |  6.82 | AvgLevel       |\n",
       "|  9 | Red  | 18.43 | 17.50 | Experience (K) |\n",
       "| 10 | Red  | 22.20 | 21.27 | CSPerMin       |\n",
       "| 11 | Red  |  1.71 |  1.59 | GoldPerMin (K) |\n",
       "\n"
      ],
      "text/plain": [
       "   id team A     B     Label         \n",
       "1   1 Blue 22.29 22.29 WardsPlaced   \n",
       "2   2 Blue  2.92  2.73 WardsDestroyed\n",
       "3   3 Blue  7.20  5.17 Kills         \n",
       "4   4 Blue  5.14  7.13 Deaths        \n",
       "5   5 Blue  7.77  5.52 Assists       \n",
       "6   6 Blue  0.08  0.02 TowerDestroyed\n",
       "7   7 Blue 17.15 15.86 Gold (K)      \n",
       "8   8 Blue  7.03  6.81 AvgLevel      \n",
       "9   9 Blue 18.40 17.45 Experience (K)\n",
       "10 10 Blue 22.16 21.18 CSPerMin      \n",
       "11 11 Blue  1.71  1.59 GoldPerMin (K)\n",
       "12  1 Red  22.80 21.93 WardsPlaced   \n",
       "13  2 Red   2.84  2.60 WardsDestroyed\n",
       "14  3 Red   7.13  5.14 Kills         \n",
       "15  4 Red   5.17  7.20 Deaths        \n",
       "16  5 Red   7.76  5.56 Assists       \n",
       "17  6 Red   0.07  0.02 TowerDestroyed\n",
       "18  7 Red  17.10 15.87 Gold (K)      \n",
       "19  8 Red   7.03  6.82 AvgLevel      \n",
       "20  9 Red  18.43 17.50 Experience (K)\n",
       "21 10 Red  22.20 21.27 CSPerMin      \n",
       "22 11 Red   1.71  1.59 GoldPerMin (K)"
      ]
     },
     "metadata": {},
     "output_type": "display_data"
    }
   ],
   "source": [
    "## Overall average of winners and losers\n",
    "\n",
    "# Now we look at the comparison of the victory and defeat data of the blue team and the comparison of the victory and defeat data of the red team.First, calculate the average value of each group of data and put it in a data frame and keep two decimal places.\n",
    "install.packages(\"showtext\")\n",
    "install.packages(\"Cairo\")\n",
    "\n",
    "#library(showtext)\n",
    "#library(Cairo)\n",
    "\n",
    "Wbluemean <- apply(Wblue,2,mean)\n",
    "Wredmean <- apply(Wred,2,mean)\n",
    "Lbluemean <- apply(Lblue,2,mean)\n",
    "Lredmean <- apply(Lred,2,mean)\n",
    "Wbluemean <- round(Wbluemean,2)\n",
    "Wredmean <- round(Wredmean,2)\n",
    "Lbluemean <- round(Lbluemean,2)\n",
    "Lredmean <- round(Lredmean,2)\n",
    "names(Wbluemean) <- NULL\n",
    "names(Wredmean) <- NULL\n",
    "names(Lbluemean) <- NULL\n",
    "names(Lredmean) <- NULL\n",
    "\n",
    "mean <- data.frame(id = 1:11,team = rep(c(\"Blue\",\"Red\"),each = 11),A = c(Wbluemean,Wredmean),B = c(Lbluemean,Lredmean),Label = c(\"WardsPlaced\",\"WardsDestroyed\",\"Kills\",\"Deaths\",\"Assists\",\"TowerDestroyed\",\"Gold (K)\",\"AvgLevel\",\"Experience (K)\",\"CSPerMin\",\"GoldPerMin (K)\"))\n",
    "\n",
    "mean"
   ]
  },
  {
   "cell_type": "code",
   "execution_count": 36,
   "metadata": {},
   "outputs": [
    {
     "data": {
      "text/html": [
       "<strong>png:</strong> 2"
      ],
      "text/latex": [
       "\\textbf{png:} 2"
      ],
      "text/markdown": [
       "**png:** 2"
      ],
      "text/plain": [
       "png \n",
       "  2 "
      ]
     },
     "metadata": {},
     "output_type": "display_data"
    }
   ],
   "source": [
    "# We try to make a butterfly graph and make the same two sets of data side by side, so that we can more easily observe the four sets of data in the same graph.\n",
    "\n",
    "p1 <- ggplot(mean,aes(x = id,y = A,fill = factor(team))) +\n",
    "  geom_bar(stat = \"identity\",colour = NA,position = \"dodge\") +\n",
    "  scale_fill_manual(values = c(\"#00BFFF\",\"#FF4500\")) + \n",
    "  ylim(-8,28) +\n",
    "  scale_x_reverse() + \n",
    "  geom_text(aes(label = A),position = position_dodge(.9),hjust = -.2,size = 3.5,fontface = \"bold\") +\n",
    "  geom_text(aes(x = id,y = -5.49,label = Label),vjust = .5,fontface = \"bold\") + \n",
    "  labs(fill = \"Team\") +\n",
    "  guides(fill = guide_legend(reverse = TRUE)) +\n",
    "  coord_flip() + \n",
    "  theme_void() +\n",
    "  theme(legend.position = c(.92,.75))\n",
    "\n",
    "p2 <- ggplot(mean,aes(x = id,y = -B,fill = factor(team))) +\n",
    "  geom_bar(stat = \"identity\",colour = NA,position = \"dodge\") +\n",
    "  scale_fill_manual(values = c(\"#DCDCDC\",\"#696969\")) +\n",
    "  ylim(-30,0) +\n",
    "  scale_x_reverse() +\n",
    "  geom_text(aes(label = B),position = position_dodge(.9),hjust = 1.2,size = 3.5,fontface = \"bold\") +\n",
    "  labs(fill = \"Team\") +\n",
    "  guides(fill = guide_legend(reverse = TRUE)) +\n",
    "  coord_flip() +\n",
    "  theme_void() +\n",
    "  theme(legend.position = c(.17,.75))\n",
    "\n",
    "\n",
    "png(filename=\"myplot.png\",width = 1200,height = 800)\n",
    "showtext_begin()\n",
    "grid.newpage()\n",
    "pushViewport(viewport(layout = grid.layout(7,21)))\n",
    "vplayout <- function(x,y){viewport(layout.pos.row = x,layout.pos.col = y)}\n",
    "grid.text(label = \"Winners of Game\",x = .75,y = .88,gp=gpar(col = \"black\",fontsize = 12,draw = TRUE,just = \"centre\"))\n",
    "grid.text(label = \"Losers of Game\",x = .30,y = .88,gp=gpar(col = \"black\",fontsize = 12,draw = TRUE,just = \"centre\"))\n",
    "grid.text(label = \"Comparison of various data between winners and losers\",x = .525,y = .95,gp=gpar(color = \"black\",fontsize = 20,draw = TRUE,just = \"centre\"))\n",
    "showtext_end()\n",
    "print(p2,vp = vplayout(2:7,1:10))\n",
    "print(p1,vp = vplayout(2:7,11:21))\n",
    "dev.off()"
   ]
  },
  {
   "cell_type": "markdown",
   "metadata": {},
   "source": [
    "**We can observe from the result that:**\n",
    "1. The probability of removing the first tower in the first ten minutes is very small. If the first tower destroyed is from us, it will cause a great disadvantage to us.\n",
    "\n",
    "2. If you demolished the enemy’s first defense tower, don’t be too happy because some of the defeated parties also demolished the opponent’s defense tower in the first ten minutes.\n",
    "\n",
    "3. Vision is very important. In the first ten minutes of the game, the vision of both parties was almost equal. However, the data shows that the winning party will destroy the enemy’s vision more. If you want to win the game, you must try to interfere with the enemy’s vision.\n",
    "\n",
    "4. By observing KDA(Kill/Death/Assist), we can find that the quality of the diamond segment is relatively high, at least in the first ten minutes, there will rarely be a one-sided situation."
   ]
  },
  {
   "cell_type": "markdown",
   "metadata": {},
   "source": [
    " Let's see, can we predict the which part could win based on the kills, golds,and tower distorying in the first 10 mins?\n",
    " # YES, WE CAN!\n",
    "So from the butterfly figure, we can compared that K/D/A, Gold and Towerdestroy are three main points which could influce \n",
    "the most for the match wins or not. So let's extract those data.\n",
    "\n"
   ]
  },
  {
   "cell_type": "code",
   "execution_count": 38,
   "metadata": {},
   "outputs": [],
   "source": [
    "data <- data %>% select(blueWins,blueKills,blueHeralds,blueTotalMinionsKilled,blueTowersDestroyed,blueTotalGold,redKills,redHeralds,redTotalMinionsKilled,redTowersDestroyed,redTotalGold) # select relevant columns\n",
    "data <- data %>% mutate(victory = ifelse(blueWins == 1,'BlueWin','RedWin')) %>% select(-blueWins)"
   ]
  },
  {
   "cell_type": "code",
   "execution_count": 43,
   "metadata": {},
   "outputs": [
    {
     "data": {
      "text/html": [
       "<strong>png:</strong> 2"
      ],
      "text/latex": [
       "\\textbf{png:} 2"
      ],
      "text/markdown": [
       "**png:** 2"
      ],
      "text/plain": [
       "png \n",
       "  2 "
      ]
     },
     "metadata": {},
     "output_type": "display_data"
    }
   ],
   "source": [
    "options(repr.plot.width = 5, repr.plot.height = 8)\n",
    "colors_fill = scale_fill_manual(values = c('#377eb8','#e41a1c'))\n",
    "colors_color = scale_color_manual(values = c('#377eb8','#e41a1c'))\n",
    "\n",
    "\n",
    "standard_theme <-  theme_minimal() + theme(axis.text.x = element_text(size = 15, face = \"bold\"),\n",
    "                        axis.text.y = element_text(size = 15, face = \"bold\"),\n",
    "                        axis.title.x = element_text(size = 15),\n",
    "                        axis.title.y = element_text(size = 15))\n",
    "\n",
    "png(filename=\"goldDiff.png\",width = 400,height = 1000)\n",
    "data %>% select(victory,blueTotalGold,redTotalGold) %>% \n",
    "    mutate(Gold_difference = abs(blueTotalGold - redTotalGold)) %>%\n",
    "    ggplot(aes(y=Gold_difference,fill=victory)) +\n",
    "    geom_boxplot(notch = TRUE,varwidth = TRUE) +\n",
    "    colors_fill + standard_theme\n",
    "dev.off()"
   ]
  },
  {
   "cell_type": "markdown",
   "metadata": {},
   "source": [
    "**Aanlysis:** Blue and red side get the similar difference. But if we look at deeply,we can see blue side tends to win slithery more than Red on average. Interesting to note the huge amount of outliers, something that needs to be adressed in the model. "
   ]
  },
  {
   "cell_type": "code",
   "execution_count": 67,
   "metadata": {},
   "outputs": [
    {
     "data": {
      "text/html": [
       "<strong>png:</strong> 2"
      ],
      "text/latex": [
       "\\textbf{png:} 2"
      ],
      "text/markdown": [
       "**png:** 2"
      ],
      "text/plain": [
       "png \n",
       "  2 "
      ]
     },
     "metadata": {},
     "output_type": "display_data"
    }
   ],
   "source": [
    "library(grid) \n",
    "library(gridExtra)\n",
    "\n",
    "png(filename=\"heraldDiff.png\",width = 1200,height = 800)\n",
    "options(repr.plot.width = 15, repr.plot.height = 10)\n",
    "\n",
    "g1 = data %>% select(blueHeralds,redTowersDestroyed,victory) %>%\n",
    "    ggplot(aes(x=blueHeralds,y=redTowersDestroyed,color=victory)) + geom_point(alpha=0.5) + \n",
    "    geom_jitter(width = 0.4,height = 0.4) + colors_color + standard_theme\n",
    "\n",
    "g2 = data %>% select(redHeralds,blueTowersDestroyed,victory) %>%\n",
    "    ggplot(aes(x=redHeralds,y=blueTowersDestroyed,color=victory)) + geom_point(alpha=0.8) + \n",
    "    geom_jitter(width = 0.4,height = 0.4) + colors_color + standard_theme\n",
    "\n",
    "grid.arrange(g1,g2,ncol=2,nrow=1)\n",
    "dev.off()"
   ]
  },
  {
   "cell_type": "markdown",
   "metadata": {},
   "source": [
    "**Analysis:** And again there is a slithery win difference between Red and Blue. Blue appears to win more on lower level differences, but with higher levels Red do win more in some occasions."
   ]
  },
  {
   "cell_type": "code",
   "execution_count": 68,
   "metadata": {},
   "outputs": [
    {
     "name": "stderr",
     "output_type": "stream",
     "text": [
      "Updating HTML index of packages in '.Library'\n",
      "Making 'packages.html' ... done\n"
     ]
    },
    {
     "data": {
      "text/html": [
       "<strong>png:</strong> 2"
      ],
      "text/latex": [
       "\\textbf{png:} 2"
      ],
      "text/markdown": [
       "**png:** 2"
      ],
      "text/plain": [
       "png \n",
       "  2 "
      ]
     },
     "metadata": {},
     "output_type": "display_data"
    }
   ],
   "source": [
    "install.packages(\"ggcorrplot\")\n",
    "library(ggcorrplot)\n",
    "library(caret)\n",
    "\n",
    "png(filename=\"corrMatrix.png\",width = 1200,height = 800)\n",
    "options(repr.plot.width = 25, repr.plot.height = 10)\n",
    "\n",
    "cnr = cor(data%>% \n",
    "          filter(victory == 'RedWin') %>% \n",
    "          select(starts_with('red'),blueTowersDestroyed,-redTowersDestroyed)) # Its does not make sense correlating bluetowers destroyed with blueHerald kils\n",
    "\n",
    "p.values_red = cor_pmat(data %>% \n",
    "                    filter(victory == 'RedWin') %>% \n",
    "                    select(starts_with('red'),blueTowersDestroyed,-redTowersDestroyed)) # p-values matrix\n",
    "\n",
    "red_corr = ggcorrplot(cnr, hc.order = TRUE, type = \"lower\",\n",
    "   outline.col = \"black\",\n",
    "   ggtheme = standard_theme,\n",
    "   colors = c('#d8b365', \"white\", \"#de2d26\"),p.mat=p.values_red,lab = TRUE)\n",
    "\n",
    "cnr = cor(data %>% \n",
    "          filter(victory == 'BlueWin') %>% \n",
    "          select(starts_with('blue'),redTowersDestroyed,-blueTowersDestroyed))\n",
    "\n",
    "p.values_blue = cor_pmat(data %>% \n",
    "                    filter(victory == 'BlueWin') %>% \n",
    "                    select(starts_with('blue'),redTowersDestroyed,-blueTowersDestroyed))\n",
    "\n",
    "blue_corr = ggcorrplot(cnr, hc.order = TRUE, type = \"lower\",\n",
    "   outline.col = \"black\",\n",
    "   ggtheme = standard_theme,\n",
    "   colors = c('#d8b365', \"white\", \"#2c7fb8\"),p.mat=p.values_blue,lab = TRUE)\n",
    "\n",
    "grid.arrange(red_corr,blue_corr,ncol=2,nrow=1)\n",
    "dev.off()"
   ]
  },
  {
   "cell_type": "markdown",
   "metadata": {},
   "source": [
    "**Analysis:** we can see from the correlation matrix, the gold is highly related with the kills. Which is obvious, the more champions you killed, the more golds you will get."
   ]
  },
  {
   "cell_type": "markdown",
   "metadata": {},
   "source": [
    "# Statistical Models\n",
    "In this part, we will introduce a logit model to do analytics the data and do prediction."
   ]
  },
  {
   "cell_type": "code",
   "execution_count": 70,
   "metadata": {},
   "outputs": [],
   "source": [
    "set.seed(42)\n",
    "data = data %>% mutate(victory = ifelse(victory == 'BlueWin',1,0)) # change to the previous format\n",
    "train = sample(nrow(data),nrow(data)*0.9)\n",
    "dt_train = data[train,]\n",
    "dt_test = data[-train,]"
   ]
  },
  {
   "cell_type": "code",
   "execution_count": 72,
   "metadata": {},
   "outputs": [
    {
     "data": {
      "text/plain": [
       "\n",
       "Call:\n",
       "glm(formula = factor(victory) ~ ., family = \"binomial\", data = dt_train)\n",
       "\n",
       "Deviance Residuals: \n",
       "    Min       1Q   Median       3Q      Max  \n",
       "-2.7467  -0.8928  -0.1585   0.8901   2.6614  \n",
       "\n",
       "Coefficients:\n",
       "                          Estimate  Std. Error z value             Pr(>|z|)    \n",
       "(Intercept)            -0.79000076  0.92058005  -0.858              0.39081    \n",
       "blueKills              -0.01852163  0.02673864  -0.693              0.48850    \n",
       "blueHeralds             0.05423074  0.06743353   0.804              0.42128    \n",
       "blueTotalMinionsKilled -0.00267368  0.00172903  -1.546              0.12202    \n",
       "blueTowersDestroyed    -0.39182928  0.14012573  -2.796              0.00517 ** \n",
       "blueTotalGold           0.00066094  0.00005799  11.398 < 0.0000000000000002 ***\n",
       "redKills               -0.01215746  0.02681237  -0.453              0.65024    \n",
       "redHeralds             -0.15262975  0.07235996  -2.109              0.03492 *  \n",
       "redTotalMinionsKilled   0.00218796  0.00172782   1.266              0.20540    \n",
       "redTowersDestroyed      0.46998731  0.15038322   3.125              0.00178 ** \n",
       "redTotalGold           -0.00059546  0.00005760 -10.338 < 0.0000000000000002 ***\n",
       "---\n",
       "Signif. codes:  0 ‘***’ 0.001 ‘**’ 0.01 ‘*’ 0.05 ‘.’ 0.1 ‘ ’ 1\n",
       "\n",
       "(Dispersion parameter for binomial family taken to be 1)\n",
       "\n",
       "    Null deviance: 12325.5  on 8890  degrees of freedom\n",
       "Residual deviance:  9527.7  on 8880  degrees of freedom\n",
       "AIC: 9549.7\n",
       "\n",
       "Number of Fisher Scoring iterations: 4\n"
      ]
     },
     "metadata": {},
     "output_type": "display_data"
    }
   ],
   "source": [
    "logit.model = glm(factor(victory)~.,data=dt_train,family=\"binomial\")\n",
    "summary(logit.model)"
   ]
  },
  {
   "cell_type": "code",
   "execution_count": 73,
   "metadata": {},
   "outputs": [
    {
     "data": {
      "text/plain": [
       "Confusion Matrix and Statistics\n",
       "\n",
       "          Reference\n",
       "Prediction   0   1\n",
       "         0 354 149\n",
       "         1 139 346\n",
       "                                             \n",
       "               Accuracy : 0.7085             \n",
       "                 95% CI : (0.6791, 0.7367)   \n",
       "    No Information Rate : 0.501              \n",
       "    P-Value [Acc > NIR] : <0.0000000000000002\n",
       "                                             \n",
       "                  Kappa : 0.417              \n",
       "                                             \n",
       " Mcnemar's Test P-Value : 0.5959             \n",
       "                                             \n",
       "            Sensitivity : 0.7181             \n",
       "            Specificity : 0.6990             \n",
       "         Pos Pred Value : 0.7038             \n",
       "         Neg Pred Value : 0.7134             \n",
       "             Prevalence : 0.4990             \n",
       "         Detection Rate : 0.3583             \n",
       "   Detection Prevalence : 0.5091             \n",
       "      Balanced Accuracy : 0.7085             \n",
       "                                             \n",
       "       'Positive' Class : 0                  \n",
       "                                             "
      ]
     },
     "metadata": {},
     "output_type": "display_data"
    }
   ],
   "source": [
    "logit.probs = predict(logit.model,newdata = dt_test,type = 'response')\n",
    "class.pred = factor(ifelse(logit.probs>0.5,1,0))\n",
    "logit.CM = confusionMatrix(class.pred,factor(dt_test$victory))\n",
    "logit.CM"
   ]
  },
  {
   "cell_type": "markdown",
   "metadata": {},
   "source": [
    "**Analysis:** The model its pretty good, but could use some improvement. Let's test the model with only the variables that are statistically significant. In this case, based on the cooralation matrix, we will choose gold and kills."
   ]
  },
  {
   "cell_type": "code",
   "execution_count": 89,
   "metadata": {},
   "outputs": [
    {
     "data": {
      "text/plain": [
       "\n",
       "Call:\n",
       "glm(formula = factor(victory) ~ blueTotalGold + redTotalGold + \n",
       "    blueKills + redKills + blueTowersDestroyed + redTowersDestroyed, \n",
       "    family = \"binomial\", data = dt_train)\n",
       "\n",
       "Deviance Residuals: \n",
       "    Min       1Q   Median       3Q      Max  \n",
       "-2.7479  -0.8947  -0.1571   0.8921   2.7146  \n",
       "\n",
       "Coefficients:\n",
       "                       Estimate  Std. Error z value             Pr(>|z|)    \n",
       "(Intercept)         -0.73719799  0.90457667  -0.815              0.41509    \n",
       "blueTotalGold        0.00060697  0.00004406  13.777 < 0.0000000000000002 ***\n",
       "redTotalGold        -0.00055445  0.00004413 -12.564 < 0.0000000000000002 ***\n",
       "blueKills            0.00366993  0.02052470   0.179              0.85809    \n",
       "redKills            -0.02729150  0.02073672  -1.316              0.18814    \n",
       "blueTowersDestroyed -0.32498353  0.13387517  -2.428              0.01520 *  \n",
       "redTowersDestroyed   0.37538139  0.14429504   2.601              0.00928 ** \n",
       "---\n",
       "Signif. codes:  0 ‘***’ 0.001 ‘**’ 0.01 ‘*’ 0.05 ‘.’ 0.1 ‘ ’ 1\n",
       "\n",
       "(Dispersion parameter for binomial family taken to be 1)\n",
       "\n",
       "    Null deviance: 12325  on 8890  degrees of freedom\n",
       "Residual deviance:  9538  on 8884  degrees of freedom\n",
       "AIC: 9552\n",
       "\n",
       "Number of Fisher Scoring iterations: 4\n"
      ]
     },
     "metadata": {},
     "output_type": "display_data"
    }
   ],
   "source": [
    "\n",
    "logit.modelv2 = glm(factor(victory)~ blueTotalGold+\n",
    "                    redTotalGold + blueKills+\n",
    "                    redKills +blueTowersDestroyed + redTowersDestroyed,data=dt_train,family=\"binomial\")\n",
    "summary(logit.modelv2)"
   ]
  },
  {
   "cell_type": "code",
   "execution_count": 90,
   "metadata": {},
   "outputs": [
    {
     "data": {
      "text/plain": [
       "Confusion Matrix and Statistics\n",
       "\n",
       "          Reference\n",
       "Prediction   0   1\n",
       "         0 349 149\n",
       "         1 144 346\n",
       "                                             \n",
       "               Accuracy : 0.7034             \n",
       "                 95% CI : (0.6739, 0.7318)   \n",
       "    No Information Rate : 0.501              \n",
       "    P-Value [Acc > NIR] : <0.0000000000000002\n",
       "                                             \n",
       "                  Kappa : 0.4069             \n",
       "                                             \n",
       " Mcnemar's Test P-Value : 0.8152             \n",
       "                                             \n",
       "            Sensitivity : 0.7079             \n",
       "            Specificity : 0.6990             \n",
       "         Pos Pred Value : 0.7008             \n",
       "         Neg Pred Value : 0.7061             \n",
       "             Prevalence : 0.4990             \n",
       "         Detection Rate : 0.3532             \n",
       "   Detection Prevalence : 0.5040             \n",
       "      Balanced Accuracy : 0.7035             \n",
       "                                             \n",
       "       'Positive' Class : 0                  \n",
       "                                             "
      ]
     },
     "metadata": {},
     "output_type": "display_data"
    }
   ],
   "source": [
    "logit.probsv2 = predict(logit.modelv2,newdata = dt_test,type = 'response')\n",
    "class.predv2 = factor(ifelse(logit.probsv2>0.5,1,0))\n",
    "logitv2.CM = confusionMatrix(class.predv2,factor(dt_test$victory))\n",
    "logitv2.CM"
   ]
  },
  {
   "cell_type": "markdown",
   "metadata": {},
   "source": [
    "### Suprisingly, the acuracy is almost the same. \n",
    "#### sad :("
   ]
  },
  {
   "cell_type": "markdown",
   "metadata": {},
   "source": [
    "# Fun Part Analysis\n",
    "In this part, we will analysis some fun features which could influence the win/loss of the game.\n",
    "First, what if we get NO KILL at the fist 10 mins? Can we win the game?\n",
    "Second, what if we get NO ASSIST at the first 10 mins (but solo kills), can we win the game? (compared with question 1)\n",
    "Third, if I got killed by jungle minions, minions, or tower, can I win the game?"
   ]
  },
  {
   "cell_type": "code",
   "execution_count": 95,
   "metadata": {},
   "outputs": [
    {
     "data": {
      "text/html": [
       "<strong>png:</strong> 2"
      ],
      "text/latex": [
       "\\textbf{png:} 2"
      ],
      "text/markdown": [
       "**png:** 2"
      ],
      "text/plain": [
       "png \n",
       "  2 "
      ]
     },
     "metadata": {},
     "output_type": "display_data"
    }
   ],
   "source": [
    "#no kill\n",
    "Nokillbw <- Wblue[Wblue$blueKills == 0,]\n",
    "Nokillrw <- Wred[Wred$redKills == 0,]\n",
    "Nokillbl <- Lblue[Lblue$blueKills == 0,]\n",
    "Nokillrl <- Lred[Lred$redKills == 0,]\n",
    "Nokillw <- length(Nokillbw$blueWardsPlaced) + length(Nokillrw$redWardsPlaced)\n",
    "Nokilll <- length(Nokillbl$blueWardsPlaced) + length(Nokillrl$redWardsPlaced)\n",
    "Nokill <- data.frame(count = c(Nokillw,Nokilll),result = c(\"win\",\"lost\"))\n",
    "\n",
    "png(filename=\"noKill.png\")\n",
    "\n",
    "p4 <- ggplot(Nokill,aes(x = result,y = count)) +\n",
    "  geom_bar(stat = \"identity\",fill = c(\"#1E90FF\",\"#FF7F50\")) +\n",
    "  geom_label(aes(label = count)) +\n",
    "  labs(x = \"Result\",y = \"Count\",title = \"Either party did not kill in the first ten minutes\") +\n",
    "  coord_flip() +\n",
    "  theme_classic()\n",
    "p4\n",
    "dev.off()"
   ]
  },
  {
   "cell_type": "markdown",
   "metadata": {},
   "source": [
    "Analysis: In either match that had not been killed in the first ten minutes, there were 19 wins (0.2%) and 116 defeats (1.2%)."
   ]
  },
  {
   "cell_type": "code",
   "execution_count": 96,
   "metadata": {},
   "outputs": [
    {
     "data": {
      "text/html": [
       "<strong>png:</strong> 2"
      ],
      "text/latex": [
       "\\textbf{png:} 2"
      ],
      "text/markdown": [
       "**png:** 2"
      ],
      "text/plain": [
       "png \n",
       "  2 "
      ]
     },
     "metadata": {},
     "output_type": "display_data"
    }
   ],
   "source": [
    "Noassistbw <- Wblue[Wblue$blueAssists == 0,]\n",
    "Noassistrw <- Wred[Wred$redAssists == 0,]\n",
    "Noassistbl <- Lblue[Lblue$blueAssists == 0,]\n",
    "Noassistrl <- Lred[Lred$redAssists == 0,]\n",
    "Noassistw <- length(Noassistbw$blueWardsPlaced) + length(Noassistrw$redWardsPlaced)\n",
    "Noassistl <- length(Noassistbl$blueWardsPlaced) + length(Noassistrl$redWardsPlaced)\n",
    "Noassist <- data.frame(count = c(Noassistw,Noassistl),result = c(\"win\",\"lost\"))\n",
    "\n",
    "png(filename=\"noAssist.png\")\n",
    "\n",
    "p5 <- ggplot(Noassist,aes(x = result,y = count)) +\n",
    "  geom_bar(stat = \"identity\",fill = c(\"#1E90FF\",\"#FF7F50\")) +\n",
    "  geom_label(aes(label = count)) +\n",
    "  labs(x = \"Result\",y = \"Count\",title = \"Either party did not assist in the first ten minutes\") +\n",
    "  coord_flip() +\n",
    "  theme_classic()\n",
    "p5\n",
    "dev.off()"
   ]
  },
  {
   "cell_type": "markdown",
   "metadata": {},
   "source": [
    "Analysis:\n",
    "\n",
    "In either match without assists in the first ten minutes, 79 wins (0.8%) and 373 defeats (3.8%).\n",
    "\n",
    "A total of 452 matches (4.6%) did not occur in the first ten minutes of team fights, basically singled out."
   ]
  },
  {
   "cell_type": "code",
   "execution_count": 97,
   "metadata": {},
   "outputs": [
    {
     "data": {
      "text/html": [
       "0"
      ],
      "text/latex": [
       "0"
      ],
      "text/markdown": [
       "0"
      ],
      "text/plain": [
       "[1] 0"
      ]
     },
     "metadata": {},
     "output_type": "display_data"
    }
   ],
   "source": [
    "Ud <- data[data$blueDeaths != data$redKills | data$redDeaths != data$blueKills,]\n",
    "dim(Ud)[1]"
   ]
  },
  {
   "cell_type": "markdown",
   "metadata": {},
   "source": [
    "Analysis:\n",
    "\n",
    "Seems like No one in the diamond rank died of unknown reasons, such as being killed by a minion, being killed by a defensive tower, or being killed by a monster."
   ]
  },
  {
   "cell_type": "markdown",
   "metadata": {},
   "source": [
    "---\n",
    "\n",
    "# Common Pitfalls / Inefficiencies\n",
    "\n",
    "**Pay attention to the following in your visualizations and stories:**\n",
    "\n",
    "\n",
    "### Color coordinate among plots so that the same data attributes have the same color in all plots\n",
    "\n",
    "you can do that by creating a manual palette and use it everywhere to make sure same color is always assigned to the same attribute value. \n",
    "\n",
    "\n",
    "### Perceptual grouping is important! group and/or order values\n",
    "\n",
    "In a bar chart, **order the axes** by time, value, etc. to make comparisons more intuitive. \n",
    "\n",
    "Pie chart: order wedges. \n",
    "\n",
    "In a bubble map, if you want to show trends, use grouping variable to **connect** bubbles, etc. \n",
    "\n",
    "\n",
    "### No lengthy text in x axis\n",
    "\n",
    "Flip the axes of a bar chart so that string values (text) are readable on the y axis left to right, \n",
    "\n",
    "**or** \n",
    "\n",
    "at least put them slanted in x axis for better readibility. \n",
    "\n",
    "\n",
    "### Plot only those that tell an obvious story\n",
    "\n",
    "**No crowded** scatter plots with useless linear regression lines that don't tell anything. Look at alternative plots to tell your story.\n",
    "\n",
    "\n",
    "### If you have too many classes (discrete variables/categories), try to group them \n",
    "\n",
    "Instead of giving a color to each of them, you can put them in meaningful groups and color code.\n",
    "\n",
    "For sequential variables, you can do the same thing by binning. \n",
    "\n",
    "Stepped color palettes may be more useful than smooth sequential palettes (especially for comparison in choropleth maps).\n",
    "\n",
    "You can group/cluster data into meaningful chunks and display those as bubble charts, networks, geographical regions, etc. \n",
    "\n",
    "Do NOT dump all the data in the plot unless there is a CLEAR pattern/clustering to it that can be perceived immediately. \n",
    "\n",
    "\n",
    "### ANNOTATE!\n",
    "\n",
    "**Tell** your audience what they are supposed to see. \n",
    "\n",
    "Use meaningful titles with a message, not dry titles. \n",
    "\n",
    "Use nice and concise axis labels. \n",
    "\n",
    "Use text annotations (look at the **examples in the lab notebook**).\n",
    "\n",
    "\n",
    "\n",
    "### THEMING!\n",
    "\n",
    "**Good looking** charts are more **convincing**. \n",
    "\n",
    "**Almost NEVER use the default color palette, default theme, default font.**\n",
    "\n",
    "\n",
    "Use a subtle color scheme, nice fonts, interesting glyphs, etc. to make your charts look more **sophisticated**. \n",
    "\n",
    "\n",
    "\n",
    "### Use space wisely!\n",
    "\n",
    "**Balance the plots** to use space effectively.\n",
    "\n",
    "Pay attention to data-ink ratio.\n",
    "\n",
    "HAVE A FLOW left to right, top to bottom. \n",
    "\n",
    "\n"
   ]
  },
  {
   "cell_type": "code",
   "execution_count": null,
   "metadata": {},
   "outputs": [],
   "source": []
  },
  {
   "cell_type": "code",
   "execution_count": null,
   "metadata": {},
   "outputs": [],
   "source": []
  },
  {
   "cell_type": "code",
   "execution_count": null,
   "metadata": {},
   "outputs": [],
   "source": []
  }
 ],
 "metadata": {
  "kernelspec": {
   "display_name": "R",
   "language": "R",
   "name": "ir"
  },
  "language_info": {
   "codemirror_mode": "r",
   "file_extension": ".r",
   "mimetype": "text/x-r-source",
   "name": "R",
   "pygments_lexer": "r",
   "version": "3.5.1"
  }
 },
 "nbformat": 4,
 "nbformat_minor": 2
}
